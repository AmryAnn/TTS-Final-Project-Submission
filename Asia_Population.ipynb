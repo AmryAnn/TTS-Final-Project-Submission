{
 "cells": [
  {
   "cell_type": "markdown",
   "id": "ce994197",
   "metadata": {},
   "source": [
    "Want to set code up so can analyze by continent and by country."
   ]
  },
  {
   "cell_type": "code",
   "execution_count": 1,
   "id": "bd87f2b1",
   "metadata": {},
   "outputs": [],
   "source": [
    "import pandas as pd\n",
    "import numpy as np\n",
    "import matplotlib.pyplot as plt\n",
    "from scipy import stats\n",
    "\n",
    "%matplotlib inline"
   ]
  },
  {
   "cell_type": "code",
   "execution_count": 2,
   "id": "63a2dc76",
   "metadata": {
    "scrolled": true
   },
   "outputs": [
    {
     "name": "stdout",
     "output_type": "stream",
     "text": [
      "<class 'pandas.core.frame.DataFrame'>\n",
      "RangeIndex: 234 entries, 0 to 233\n",
      "Data columns (total 17 columns):\n",
      " #   Column                       Non-Null Count  Dtype  \n",
      "---  ------                       --------------  -----  \n",
      " 0   Rank                         234 non-null    int64  \n",
      " 1   CCA3                         234 non-null    object \n",
      " 2   Country                      234 non-null    object \n",
      " 3   Capital                      234 non-null    object \n",
      " 4   Continent                    234 non-null    object \n",
      " 5   2022 Population              234 non-null    int64  \n",
      " 6   2020 Population              234 non-null    int64  \n",
      " 7   2015 Population              234 non-null    int64  \n",
      " 8   2010 Population              234 non-null    int64  \n",
      " 9   2000 Population              234 non-null    int64  \n",
      " 10  1990 Population              234 non-null    int64  \n",
      " 11  1980 Population              234 non-null    int64  \n",
      " 12  1970 Population              234 non-null    int64  \n",
      " 13  Area (km²)                   234 non-null    int64  \n",
      " 14  Density (per km²)            234 non-null    float64\n",
      " 15  Growth Rate                  234 non-null    float64\n",
      " 16  World Population Percentage  234 non-null    float64\n",
      "dtypes: float64(3), int64(10), object(4)\n",
      "memory usage: 31.2+ KB\n"
     ]
    }
   ],
   "source": [
    "world_data = pd.read_csv('world_population.csv')\n",
    "world_data.info()"
   ]
  },
  {
   "cell_type": "code",
   "execution_count": 3,
   "id": "68e3b5da",
   "metadata": {},
   "outputs": [
    {
     "data": {
      "text/plain": [
       "(234, 17)"
      ]
     },
     "execution_count": 3,
     "metadata": {},
     "output_type": "execute_result"
    }
   ],
   "source": [
    "world_data.shape"
   ]
  },
  {
   "cell_type": "code",
   "execution_count": 4,
   "id": "0954601a",
   "metadata": {},
   "outputs": [
    {
     "data": {
      "text/html": [
       "<div>\n",
       "<style scoped>\n",
       "    .dataframe tbody tr th:only-of-type {\n",
       "        vertical-align: middle;\n",
       "    }\n",
       "\n",
       "    .dataframe tbody tr th {\n",
       "        vertical-align: top;\n",
       "    }\n",
       "\n",
       "    .dataframe thead th {\n",
       "        text-align: right;\n",
       "    }\n",
       "</style>\n",
       "<table border=\"1\" class=\"dataframe\">\n",
       "  <thead>\n",
       "    <tr style=\"text-align: right;\">\n",
       "      <th></th>\n",
       "      <th>Rank</th>\n",
       "      <th>CCA3</th>\n",
       "      <th>Country</th>\n",
       "      <th>Capital</th>\n",
       "      <th>Continent</th>\n",
       "      <th>2022 Population</th>\n",
       "      <th>2020 Population</th>\n",
       "      <th>2015 Population</th>\n",
       "      <th>2010 Population</th>\n",
       "      <th>2000 Population</th>\n",
       "      <th>1990 Population</th>\n",
       "      <th>1980 Population</th>\n",
       "      <th>1970 Population</th>\n",
       "      <th>Area (km²)</th>\n",
       "      <th>Density (per km²)</th>\n",
       "      <th>Growth Rate</th>\n",
       "      <th>World Population Percentage</th>\n",
       "    </tr>\n",
       "  </thead>\n",
       "  <tbody>\n",
       "    <tr>\n",
       "      <th>0</th>\n",
       "      <td>36</td>\n",
       "      <td>AFG</td>\n",
       "      <td>Afghanistan</td>\n",
       "      <td>Kabul</td>\n",
       "      <td>Asia</td>\n",
       "      <td>41128771</td>\n",
       "      <td>38972230</td>\n",
       "      <td>33753499</td>\n",
       "      <td>28189672</td>\n",
       "      <td>19542982</td>\n",
       "      <td>10694796</td>\n",
       "      <td>12486631</td>\n",
       "      <td>10752971</td>\n",
       "      <td>652230</td>\n",
       "      <td>63.0587</td>\n",
       "      <td>1.0257</td>\n",
       "      <td>0.52</td>\n",
       "    </tr>\n",
       "    <tr>\n",
       "      <th>1</th>\n",
       "      <td>138</td>\n",
       "      <td>ALB</td>\n",
       "      <td>Albania</td>\n",
       "      <td>Tirana</td>\n",
       "      <td>Europe</td>\n",
       "      <td>2842321</td>\n",
       "      <td>2866849</td>\n",
       "      <td>2882481</td>\n",
       "      <td>2913399</td>\n",
       "      <td>3182021</td>\n",
       "      <td>3295066</td>\n",
       "      <td>2941651</td>\n",
       "      <td>2324731</td>\n",
       "      <td>28748</td>\n",
       "      <td>98.8702</td>\n",
       "      <td>0.9957</td>\n",
       "      <td>0.04</td>\n",
       "    </tr>\n",
       "    <tr>\n",
       "      <th>2</th>\n",
       "      <td>34</td>\n",
       "      <td>DZA</td>\n",
       "      <td>Algeria</td>\n",
       "      <td>Algiers</td>\n",
       "      <td>Africa</td>\n",
       "      <td>44903225</td>\n",
       "      <td>43451666</td>\n",
       "      <td>39543154</td>\n",
       "      <td>35856344</td>\n",
       "      <td>30774621</td>\n",
       "      <td>25518074</td>\n",
       "      <td>18739378</td>\n",
       "      <td>13795915</td>\n",
       "      <td>2381741</td>\n",
       "      <td>18.8531</td>\n",
       "      <td>1.0164</td>\n",
       "      <td>0.56</td>\n",
       "    </tr>\n",
       "    <tr>\n",
       "      <th>3</th>\n",
       "      <td>213</td>\n",
       "      <td>ASM</td>\n",
       "      <td>American Samoa</td>\n",
       "      <td>Pago Pago</td>\n",
       "      <td>Oceania</td>\n",
       "      <td>44273</td>\n",
       "      <td>46189</td>\n",
       "      <td>51368</td>\n",
       "      <td>54849</td>\n",
       "      <td>58230</td>\n",
       "      <td>47818</td>\n",
       "      <td>32886</td>\n",
       "      <td>27075</td>\n",
       "      <td>199</td>\n",
       "      <td>222.4774</td>\n",
       "      <td>0.9831</td>\n",
       "      <td>0.00</td>\n",
       "    </tr>\n",
       "    <tr>\n",
       "      <th>4</th>\n",
       "      <td>203</td>\n",
       "      <td>AND</td>\n",
       "      <td>Andorra</td>\n",
       "      <td>Andorra la Vella</td>\n",
       "      <td>Europe</td>\n",
       "      <td>79824</td>\n",
       "      <td>77700</td>\n",
       "      <td>71746</td>\n",
       "      <td>71519</td>\n",
       "      <td>66097</td>\n",
       "      <td>53569</td>\n",
       "      <td>35611</td>\n",
       "      <td>19860</td>\n",
       "      <td>468</td>\n",
       "      <td>170.5641</td>\n",
       "      <td>1.0100</td>\n",
       "      <td>0.00</td>\n",
       "    </tr>\n",
       "  </tbody>\n",
       "</table>\n",
       "</div>"
      ],
      "text/plain": [
       "   Rank CCA3         Country           Capital Continent  2022 Population  \\\n",
       "0    36  AFG     Afghanistan             Kabul      Asia         41128771   \n",
       "1   138  ALB         Albania            Tirana    Europe          2842321   \n",
       "2    34  DZA         Algeria           Algiers    Africa         44903225   \n",
       "3   213  ASM  American Samoa         Pago Pago   Oceania            44273   \n",
       "4   203  AND         Andorra  Andorra la Vella    Europe            79824   \n",
       "\n",
       "   2020 Population  2015 Population  2010 Population  2000 Population  \\\n",
       "0         38972230         33753499         28189672         19542982   \n",
       "1          2866849          2882481          2913399          3182021   \n",
       "2         43451666         39543154         35856344         30774621   \n",
       "3            46189            51368            54849            58230   \n",
       "4            77700            71746            71519            66097   \n",
       "\n",
       "   1990 Population  1980 Population  1970 Population  Area (km²)  \\\n",
       "0         10694796         12486631         10752971      652230   \n",
       "1          3295066          2941651          2324731       28748   \n",
       "2         25518074         18739378         13795915     2381741   \n",
       "3            47818            32886            27075         199   \n",
       "4            53569            35611            19860         468   \n",
       "\n",
       "   Density (per km²)  Growth Rate  World Population Percentage  \n",
       "0            63.0587       1.0257                         0.52  \n",
       "1            98.8702       0.9957                         0.04  \n",
       "2            18.8531       1.0164                         0.56  \n",
       "3           222.4774       0.9831                         0.00  \n",
       "4           170.5641       1.0100                         0.00  "
      ]
     },
     "execution_count": 4,
     "metadata": {},
     "output_type": "execute_result"
    }
   ],
   "source": [
    "world_data.head()"
   ]
  },
  {
   "cell_type": "code",
   "execution_count": 18,
   "id": "d4a6c596",
   "metadata": {},
   "outputs": [
    {
     "name": "stdout",
     "output_type": "stream",
     "text": [
      "['Asia' 'Europe' 'Africa' 'Oceania' 'North America' 'South America']\n"
     ]
    }
   ],
   "source": [
    "continents = world_data.Continent.unique()\n",
    "print(continents)"
   ]
  },
  {
   "cell_type": "code",
   "execution_count": 29,
   "id": "34417cb9",
   "metadata": {},
   "outputs": [],
   "source": [
    "def continent_df(continent):\n",
    "    return world_data[world_data.Continent == continent]\n",
    "\n",
    "def get_continent_pops(continent_df):\n",
    "    pop_totals = []\n",
    "    years = []\n",
    "    pop_columns = continent_df.columns[5:13].tolist()\n",
    "    pop_columns.reverse()\n",
    "    for col in pop_columns:\n",
    "        pop_totals.append(continent_df[col].sum())\n",
    "        column.split()\n",
    "        year = col[0:5]\n",
    "        years.append(year.strip())\n",
    "    return pop_totals, years"
   ]
  },
  {
   "cell_type": "code",
   "execution_count": 32,
   "id": "ade69aee",
   "metadata": {},
   "outputs": [
    {
     "data": {
      "text/html": [
       "<div>\n",
       "<style scoped>\n",
       "    .dataframe tbody tr th:only-of-type {\n",
       "        vertical-align: middle;\n",
       "    }\n",
       "\n",
       "    .dataframe tbody tr th {\n",
       "        vertical-align: top;\n",
       "    }\n",
       "\n",
       "    .dataframe thead th {\n",
       "        text-align: right;\n",
       "    }\n",
       "</style>\n",
       "<table border=\"1\" class=\"dataframe\">\n",
       "  <thead>\n",
       "    <tr style=\"text-align: right;\">\n",
       "      <th></th>\n",
       "      <th>Rank</th>\n",
       "      <th>2022 Population</th>\n",
       "      <th>2020 Population</th>\n",
       "      <th>2015 Population</th>\n",
       "      <th>2010 Population</th>\n",
       "      <th>2000 Population</th>\n",
       "      <th>1990 Population</th>\n",
       "      <th>1980 Population</th>\n",
       "      <th>1970 Population</th>\n",
       "      <th>Area (km²)</th>\n",
       "      <th>Density (per km²)</th>\n",
       "      <th>Growth Rate</th>\n",
       "      <th>World Population Percentage</th>\n",
       "    </tr>\n",
       "  </thead>\n",
       "  <tbody>\n",
       "    <tr>\n",
       "      <th>count</th>\n",
       "      <td>50.000000</td>\n",
       "      <td>5.000000e+01</td>\n",
       "      <td>5.000000e+01</td>\n",
       "      <td>5.000000e+01</td>\n",
       "      <td>5.000000e+01</td>\n",
       "      <td>5.000000e+01</td>\n",
       "      <td>5.000000e+01</td>\n",
       "      <td>5.000000e+01</td>\n",
       "      <td>5.000000e+01</td>\n",
       "      <td>5.000000e+01</td>\n",
       "      <td>50.000000</td>\n",
       "      <td>50.000000</td>\n",
       "      <td>50.000000</td>\n",
       "    </tr>\n",
       "    <tr>\n",
       "      <th>mean</th>\n",
       "      <td>77.560000</td>\n",
       "      <td>9.442767e+07</td>\n",
       "      <td>9.326173e+07</td>\n",
       "      <td>8.916500e+07</td>\n",
       "      <td>8.440083e+07</td>\n",
       "      <td>7.470179e+07</td>\n",
       "      <td>6.421127e+07</td>\n",
       "      <td>5.270668e+07</td>\n",
       "      <td>4.289813e+07</td>\n",
       "      <td>6.427628e+05</td>\n",
       "      <td>1025.024136</td>\n",
       "      <td>1.009384</td>\n",
       "      <td>1.183800</td>\n",
       "    </tr>\n",
       "    <tr>\n",
       "      <th>std</th>\n",
       "      <td>53.633739</td>\n",
       "      <td>2.797207e+08</td>\n",
       "      <td>2.775374e+08</td>\n",
       "      <td>2.672775e+08</td>\n",
       "      <td>2.548406e+08</td>\n",
       "      <td>2.294235e+08</td>\n",
       "      <td>2.010543e+08</td>\n",
       "      <td>1.676305e+08</td>\n",
       "      <td>1.383442e+08</td>\n",
       "      <td>1.495049e+06</td>\n",
       "      <td>3535.091414</td>\n",
       "      <td>0.009213</td>\n",
       "      <td>3.507563</td>\n",
       "    </tr>\n",
       "    <tr>\n",
       "      <th>min</th>\n",
       "      <td>1.000000</td>\n",
       "      <td>4.490020e+05</td>\n",
       "      <td>4.417250e+05</td>\n",
       "      <td>4.214370e+05</td>\n",
       "      <td>3.615750e+05</td>\n",
       "      <td>2.825070e+05</td>\n",
       "      <td>2.249570e+05</td>\n",
       "      <td>1.648870e+05</td>\n",
       "      <td>1.180070e+05</td>\n",
       "      <td>3.000000e+01</td>\n",
       "      <td>2.172700</td>\n",
       "      <td>0.981600</td>\n",
       "      <td>0.010000</td>\n",
       "    </tr>\n",
       "    <tr>\n",
       "      <th>25%</th>\n",
       "      <td>30.500000</td>\n",
       "      <td>5.309989e+06</td>\n",
       "      <td>5.180282e+06</td>\n",
       "      <td>4.775965e+06</td>\n",
       "      <td>4.243158e+06</td>\n",
       "      <td>3.469900e+06</td>\n",
       "      <td>3.136804e+06</td>\n",
       "      <td>2.262860e+06</td>\n",
       "      <td>1.683488e+06</td>\n",
       "      <td>3.135550e+04</td>\n",
       "      <td>71.512850</td>\n",
       "      <td>1.004400</td>\n",
       "      <td>0.070000</td>\n",
       "    </tr>\n",
       "    <tr>\n",
       "      <th>50%</th>\n",
       "      <td>69.500000</td>\n",
       "      <td>1.808292e+07</td>\n",
       "      <td>1.768805e+07</td>\n",
       "      <td>1.662672e+07</td>\n",
       "      <td>1.549568e+07</td>\n",
       "      <td>1.367755e+07</td>\n",
       "      <td>9.802802e+06</td>\n",
       "      <td>7.641007e+06</td>\n",
       "      <td>6.212695e+06</td>\n",
       "      <td>1.643025e+05</td>\n",
       "      <td>122.965150</td>\n",
       "      <td>1.008100</td>\n",
       "      <td>0.225000</td>\n",
       "    </tr>\n",
       "    <tr>\n",
       "      <th>75%</th>\n",
       "      <td>121.250000</td>\n",
       "      <td>4.998589e+07</td>\n",
       "      <td>4.952276e+07</td>\n",
       "      <td>4.768525e+07</td>\n",
       "      <td>4.442600e+07</td>\n",
       "      <td>4.038514e+07</td>\n",
       "      <td>3.527455e+07</td>\n",
       "      <td>2.962441e+07</td>\n",
       "      <td>2.421230e+07</td>\n",
       "      <td>5.068650e+05</td>\n",
       "      <td>336.346625</td>\n",
       "      <td>1.015000</td>\n",
       "      <td>0.627500</td>\n",
       "    </tr>\n",
       "    <tr>\n",
       "      <th>max</th>\n",
       "      <td>175.000000</td>\n",
       "      <td>1.425887e+09</td>\n",
       "      <td>1.424930e+09</td>\n",
       "      <td>1.393715e+09</td>\n",
       "      <td>1.348191e+09</td>\n",
       "      <td>1.264099e+09</td>\n",
       "      <td>1.153704e+09</td>\n",
       "      <td>9.823725e+08</td>\n",
       "      <td>8.225344e+08</td>\n",
       "      <td>9.706961e+06</td>\n",
       "      <td>23172.266700</td>\n",
       "      <td>1.037600</td>\n",
       "      <td>17.880000</td>\n",
       "    </tr>\n",
       "  </tbody>\n",
       "</table>\n",
       "</div>"
      ],
      "text/plain": [
       "             Rank  2022 Population  2020 Population  2015 Population  \\\n",
       "count   50.000000     5.000000e+01     5.000000e+01     5.000000e+01   \n",
       "mean    77.560000     9.442767e+07     9.326173e+07     8.916500e+07   \n",
       "std     53.633739     2.797207e+08     2.775374e+08     2.672775e+08   \n",
       "min      1.000000     4.490020e+05     4.417250e+05     4.214370e+05   \n",
       "25%     30.500000     5.309989e+06     5.180282e+06     4.775965e+06   \n",
       "50%     69.500000     1.808292e+07     1.768805e+07     1.662672e+07   \n",
       "75%    121.250000     4.998589e+07     4.952276e+07     4.768525e+07   \n",
       "max    175.000000     1.425887e+09     1.424930e+09     1.393715e+09   \n",
       "\n",
       "       2010 Population  2000 Population  1990 Population  1980 Population  \\\n",
       "count     5.000000e+01     5.000000e+01     5.000000e+01     5.000000e+01   \n",
       "mean      8.440083e+07     7.470179e+07     6.421127e+07     5.270668e+07   \n",
       "std       2.548406e+08     2.294235e+08     2.010543e+08     1.676305e+08   \n",
       "min       3.615750e+05     2.825070e+05     2.249570e+05     1.648870e+05   \n",
       "25%       4.243158e+06     3.469900e+06     3.136804e+06     2.262860e+06   \n",
       "50%       1.549568e+07     1.367755e+07     9.802802e+06     7.641007e+06   \n",
       "75%       4.442600e+07     4.038514e+07     3.527455e+07     2.962441e+07   \n",
       "max       1.348191e+09     1.264099e+09     1.153704e+09     9.823725e+08   \n",
       "\n",
       "       1970 Population    Area (km²)  Density (per km²)  Growth Rate  \\\n",
       "count     5.000000e+01  5.000000e+01          50.000000    50.000000   \n",
       "mean      4.289813e+07  6.427628e+05        1025.024136     1.009384   \n",
       "std       1.383442e+08  1.495049e+06        3535.091414     0.009213   \n",
       "min       1.180070e+05  3.000000e+01           2.172700     0.981600   \n",
       "25%       1.683488e+06  3.135550e+04          71.512850     1.004400   \n",
       "50%       6.212695e+06  1.643025e+05         122.965150     1.008100   \n",
       "75%       2.421230e+07  5.068650e+05         336.346625     1.015000   \n",
       "max       8.225344e+08  9.706961e+06       23172.266700     1.037600   \n",
       "\n",
       "       World Population Percentage  \n",
       "count                    50.000000  \n",
       "mean                      1.183800  \n",
       "std                       3.507563  \n",
       "min                       0.010000  \n",
       "25%                       0.070000  \n",
       "50%                       0.225000  \n",
       "75%                       0.627500  \n",
       "max                      17.880000  "
      ]
     },
     "execution_count": 32,
     "metadata": {},
     "output_type": "execute_result"
    }
   ],
   "source": [
    "asia = get_continent(\"Asia\")\n",
    "asia_pop, years = get_continent_pops(asia)\n",
    "#asia.info()\n",
    "asia.describe()"
   ]
  },
  {
   "cell_type": "code",
   "execution_count": 20,
   "id": "404456b3",
   "metadata": {
    "scrolled": true
   },
   "outputs": [
    {
     "data": {
      "text/plain": [
       "array(['Afghanistan', 'Armenia', 'Azerbaijan', 'Bahrain', 'Bangladesh',\n",
       "       'Bhutan', 'Brunei', 'Cambodia', 'China', 'Georgia', 'Hong Kong',\n",
       "       'India', 'Indonesia', 'Iran', 'Iraq', 'Israel', 'Japan', 'Jordan',\n",
       "       'Kazakhstan', 'Kuwait', 'Kyrgyzstan', 'Laos', 'Lebanon', 'Macau',\n",
       "       'Malaysia', 'Maldives', 'Mongolia', 'Myanmar', 'Nepal',\n",
       "       'North Korea', 'Oman', 'Pakistan', 'Palestine', 'Philippines',\n",
       "       'Qatar', 'Saudi Arabia', 'Singapore', 'South Korea', 'Sri Lanka',\n",
       "       'Syria', 'Taiwan', 'Tajikistan', 'Thailand', 'Timor-Leste',\n",
       "       'Turkey', 'Turkmenistan', 'United Arab Emirates', 'Uzbekistan',\n",
       "       'Vietnam', 'Yemen'], dtype=object)"
      ]
     },
     "execution_count": 20,
     "metadata": {},
     "output_type": "execute_result"
    }
   ],
   "source": [
    "asia_countries = asia.Country.unique()\n",
    "asia_countries"
   ]
  },
  {
   "cell_type": "code",
   "execution_count": 33,
   "id": "aabe10e7",
   "metadata": {},
   "outputs": [
    {
     "data": {
      "image/png": "[encoded data removed]",
      "text/plain": [
       "<Figure size 576x432 with 1 Axes>"
      ]
     },
     "metadata": {
      "needs_background": "light"
     },
     "output_type": "display_data"
    }
   ],
   "source": [
    "fig, ax = plt.subplots(figsize=(8,6))\n",
    "ax.bar(years, asia_pop)\n",
    "ax.plot(years, asia_pop, color = 'orange')\n",
    "\n",
    "ax.set_title('Population of Asia From 1970 - 2022', fontsize=16)\n",
    "ax.set_ylabel('Population', fontsize=14)\n",
    "ax.set_xlabel('Year', fontsize=14)\n",
    "fig.tight_layout()"
   ]
  },
  {
   "cell_type": "code",
   "execution_count": 34,
   "id": "6d0af699",
   "metadata": {},
   "outputs": [],
   "source": [
    "def get_country_data(country):\n",
    "    country_row = asia[asia.Country == country]\n",
    "    row_values = country_row.values\n",
    "    pop_array = row_values[0, 5:13]\n",
    "    pop_list = []\n",
    "    for i in range(len(pop_array)):\n",
    "        pop_list.append(pop_array[i])\n",
    "    pop_list.reverse()\n",
    "    return pop_list\n",
    "\n",
    "pakistan_pop = get_country_data(\"Pakistan\")\n",
    "vietnam_pop = get_country_data(\"Vietnam\")\n",
    "nepal_pop = get_country_data(\"Nepal\")\n",
    "skorea_pop = get_country_data('South Korea')\n",
    "armenia_pop = get_country_data(\"Armenia\")"
   ]
  },
  {
   "cell_type": "code",
   "execution_count": 11,
   "id": "7facdb86",
   "metadata": {
    "scrolled": true
   },
   "outputs": [
    {
     "data": {
      "text/plain": [
       "Text(0, 0.5, 'Population(in millions)')"
      ]
     },
     "execution_count": 11,
     "metadata": {},
     "output_type": "execute_result"
    },
    {
     "data": {
      "image/png": "[encoded data removed]",
      "text/plain": [
       "<Figure size 864x576 with 1 Axes>"
      ]
     },
     "metadata": {
      "needs_background": "light"
     },
     "output_type": "display_data"
    }
   ],
   "source": [
    "# Graph includings all countries\n",
    "plt.figure(figsize=(12, 8))\n",
    "plt.plot(years, armenia_pop, label = 'Armenia')\n",
    "plt.plot(years, pakistan_pop, label = 'Pakistan',linestyle = '--')\n",
    "plt.plot(years, vietnam_pop, label = 'Vietnam', linestyle = '-.')\n",
    "plt.plot(years, skorea_pop, label = 'South Korea', linestyle = '--', marker = 'o')\n",
    "plt.plot(years, nepal_pop, label = 'Nepal', linestyle = '-')\n",
    "plt.legend(loc = 'upper left')\n",
    "\n",
    "plt.title('Population Change from 1970 to 2022', fontsize=14)\n",
    "plt.xlabel('Years', fontsize=14)\n",
    "plt.ylabel('Population(in millions)', fontsize=14)"
   ]
  },
  {
   "cell_type": "code",
   "execution_count": 12,
   "id": "7cf902d3",
   "metadata": {},
   "outputs": [],
   "source": [
    "#Plotting Function\n",
    "def plot_pop_change(x, y, country):\n",
    "    fig, ax = plt.subplots(figsize=(8, 6))\n",
    "    ax.plot(x, y, label=country)\n",
    "    ax.set_title(\"Population Change of {0} From 1970 - 2022\".format(country), fontsize=16)\n",
    "    ax.set_ylabel('Population', fontsize=14)\n",
    "    ax.set_xlabel('Year', fontsize=14)\n",
    "    fig.tight_layout()"
   ]
  },
  {
   "cell_type": "markdown",
   "id": "1e071a5e",
   "metadata": {},
   "source": [
    "### Correlation and Slope"
   ]
  },
  {
   "cell_type": "code",
   "execution_count": 13,
   "id": "9e0e7193",
   "metadata": {},
   "outputs": [
    {
     "name": "stdout",
     "output_type": "stream",
     "text": [
      "Correlation between Asia and Armenia is: -0.10114457595322736\n"
     ]
    }
   ],
   "source": [
    "#Correlation function\n",
    "\n",
    "def get_corr(sub1, sub2, x, y):\n",
    "    \"\"\" \n",
    "    Calculates and prints correlations. \n",
    "    arguments:\n",
    "        sub1, sub2 - Strings to label x and y respectively\n",
    "        x, y - numerical data being correlated\n",
    "    \"\"\"\n",
    "    corr, _ = stats.pearsonr(x, y)\n",
    "    print(\"Correlation between {sub1} and {sub2} is:\".format(sub1=sub1, sub2=sub2), corr)\n",
    "    \n",
    "get_corr('Asia', 'Armenia', pop_totals, armenia_pop)"
   ]
  },
  {
   "cell_type": "code",
   "execution_count": 14,
   "id": "6e7eb84a",
   "metadata": {},
   "outputs": [
    {
     "name": "stdout",
     "output_type": "stream",
     "text": [
      "The slope for Asia data is: 49667834.428571425\n"
     ]
    }
   ],
   "source": [
    "#Slope function\n",
    "years = list(map(int, years))\n",
    "\n",
    "def get_slope(sub1, x_list, y_list):\n",
    "    \"\"\"\n",
    "    Calculates and prints slope of data\n",
    "    arguments:\n",
    "        sub1 - String to label data\n",
    "        x, y - numerical data \n",
    "    \"\"\"\n",
    "    run = x_list[-1] - x_list[1]\n",
    "    rise = y_list[-1] - y_list[1]\n",
    "    print(\"The slope for {0} data is:\".format(sub1), rise/run)\n",
    "\n",
    "\n",
    "get_slope(\"Asia\", years, pop_totals)"
   ]
  }
 ],
 "metadata": {
  "kernelspec": {
   "display_name": "Python 3",
   "language": "python",
   "name": "python3"
  },
  "language_info": {
   "codemirror_mode": {
    "name": "ipython",
    "version": 3
   },
   "file_extension": ".py",
   "mimetype": "text/x-python",
   "name": "python",
   "nbconvert_exporter": "python",
   "pygments_lexer": "ipython3",
   "version": "3.8.8"
  }
 },
 "nbformat": 4,
 "nbformat_minor": 5
}
